{
 "cells": [
  {
   "cell_type": "code",
   "execution_count": 1,
   "metadata": {},
   "outputs": [],
   "source": [
    "from yaps.lib import int, real, uniform, bernoulli\n",
    "import yaps as yaps"
   ]
  },
  {
   "cell_type": "code",
   "execution_count": 2,
   "metadata": {},
   "outputs": [],
   "source": [
    "@yaps.model\n",
    "def slicstan(N: int[10], y: real(lower=0, upper=1)[10]):\n",
    "    tau: real is gamma(0.1, 0.1)\n",
    "    mu: real is normal(0, 1)\n",
    "    with transformed_parameters:\n",
    "        sigma: real = pow(tau, (5 % 2))\n",
    "    y is normal(mu, sigma)\n",
    "    with generated_quantities:\n",
    "        v: real = pow(sigma, 2)"
   ]
  },
  {
   "cell_type": "code",
   "execution_count": 3,
   "metadata": {},
   "outputs": [
    {
     "name": "stdout",
     "output_type": "stream",
     "text": [
      "data {\n",
      "  int N[10];\n",
      "  real<lower=0,upper=1> y[10];\n",
      "}\n",
      "parameters {\n",
      "  real tau;\n",
      "  real mu;\n",
      "}\n",
      "transformed parameters {\n",
      "  real sigma = pow(tau,5 % 2);\n",
      "}\n",
      "model {\n",
      "  tau ~ gamma(0.1,0.1);\n",
      "  mu ~ normal(0,1);\n",
      "  y ~ normal(mu,sigma);\n",
      "}\n",
      "generated quantities {\n",
      "  real v = pow(sigma,2);\n",
      "}\n",
      "\n"
     ]
    }
   ],
   "source": [
    "print(slicstan)"
   ]
  },
  {
   "cell_type": "code",
   "execution_count": null,
   "metadata": {},
   "outputs": [],
   "source": []
  }
 ],
 "metadata": {
  "kernelspec": {
   "display_name": "Python 3",
   "language": "python",
   "name": "python3"
  },
  "language_info": {
   "codemirror_mode": {
    "name": "ipython",
    "version": 3
   },
   "file_extension": ".py",
   "mimetype": "text/x-python",
   "name": "python",
   "nbconvert_exporter": "python",
   "pygments_lexer": "ipython3",
   "version": "3.6.6"
  }
 },
 "nbformat": 4,
 "nbformat_minor": 2
}
